{
 "cells": [
  {
   "cell_type": "markdown",
   "metadata": {},
   "source": [
    "### Importing libraries and layers"
   ]
  },
  {
   "cell_type": "code",
   "execution_count": 4,
   "metadata": {},
   "outputs": [],
   "source": [
    "import pandas as pd\n",
    "import numpy as np\n",
    "from tensorflow.keras.preprocessing.image import ImageDataGenerator\n",
    "from tensorflow.keras.layers import Flatten, Conv2D, MaxPool2D, Dense"
   ]
  },
  {
   "cell_type": "markdown",
   "metadata": {},
   "source": [
    "### Using keras from tensorflow to get the datasets folders"
   ]
  },
  {
   "cell_type": "code",
   "execution_count": 5,
   "metadata": {},
   "outputs": [],
   "source": [
    "train_data = ImageDataGenerator(\n",
    "    rescale = 1./255,\n",
    "    horizontal_flip=True,\n",
    "    shear_range=0.2,\n",
    "    zoom_range=0.2,\n",
    ")\n",
    "\n",
    "test_data = ImageDataGenerator(\n",
    "    rescale = 1./255\n",
    ")"
   ]
  },
  {
   "cell_type": "code",
   "execution_count": 6,
   "metadata": {},
   "outputs": [
    {
     "name": "stdout",
     "output_type": "stream",
     "text": [
      "Found 18966 images belonging to 2 classes.\n",
      "Found 4742 images belonging to 2 classes.\n"
     ]
    }
   ],
   "source": [
    "training_set = train_data.flow_from_directory(\n",
    "    'dataset/training_set',\n",
    "    target_size = (64, 64),\n",
    "    batch_size = 32,\n",
    "    class_mode = 'binary'\n",
    ")\n",
    "\n",
    "test_set = test_data.flow_from_directory(\n",
    "    'dataset/test_set',\n",
    "    target_size = (64, 64),\n",
    "    batch_size = 32,\n",
    "    class_mode = 'binary'\n",
    ")"
   ]
  },
  {
   "cell_type": "markdown",
   "metadata": {},
   "source": [
    "### Building a CNN model to predict whether the Image of a person is a male or female"
   ]
  },
  {
   "cell_type": "code",
   "execution_count": 11,
   "metadata": {},
   "outputs": [
    {
     "name": "stderr",
     "output_type": "stream",
     "text": [
      "/home/naturalcapsule/python/machine_learning/lib/python3.12/site-packages/keras/src/layers/convolutional/base_conv.py:107: UserWarning: Do not pass an `input_shape`/`input_dim` argument to a layer. When using Sequential models, prefer using an `Input(shape)` object as the first layer in the model instead.\n",
      "  super().__init__(activity_regularizer=activity_regularizer, **kwargs)\n"
     ]
    }
   ],
   "source": [
    "from tensorflow.keras.models import Sequential\n",
    "cnn = Sequential()\n",
    "\n",
    "cnn.add(Conv2D(filters = 32, kernel_size=(3, 3), activation = 'relu',\n",
    "                input_shape = (64, 64, 3)))\n",
    "cnn.add(MaxPool2D(strides = (2, 2), pool_size = (2, 2)))\n",
    "\n",
    "cnn.add(Conv2D(filters = 32, kernel_size=(3, 3), activation = 'relu'))\n",
    "cnn.add(MaxPool2D(strides = (2, 2), pool_size = (2, 2)))\n",
    "\n",
    "cnn.add(Conv2D(filters = 32, kernel_size=(3, 3), activation = 'relu'))\n",
    "cnn.add(MaxPool2D(strides = (2, 2), pool_size = (2, 2)))\n",
    "\n",
    "cnn.add(Flatten())\n",
    "\n",
    "cnn.add(Dense(units = 128, activation = 'relu'))\n",
    "cnn.add(Dense(units = 1, activation = 'sigmoid'))"
   ]
  },
  {
   "cell_type": "markdown",
   "metadata": {},
   "source": [
    "### Compiling and fitting (Got 92%)"
   ]
  },
  {
   "cell_type": "code",
   "execution_count": 12,
   "metadata": {},
   "outputs": [
    {
     "name": "stdout",
     "output_type": "stream",
     "text": [
      "Epoch 1/40\n"
     ]
    },
    {
     "name": "stderr",
     "output_type": "stream",
     "text": [
      "/home/naturalcapsule/python/machine_learning/lib/python3.12/site-packages/keras/src/trainers/data_adapters/py_dataset_adapter.py:121: UserWarning: Your `PyDataset` class should call `super().__init__(**kwargs)` in its constructor. `**kwargs` can include `workers`, `use_multiprocessing`, `max_queue_size`. Do not pass these arguments to `fit()`, as they will be ignored.\n",
      "  self._warn_if_super_not_called()\n"
     ]
    },
    {
     "name": "stdout",
     "output_type": "stream",
     "text": [
      "\u001b[1m593/593\u001b[0m \u001b[32m━━━━━━━━━━━━━━━━━━━━\u001b[0m\u001b[37m\u001b[0m \u001b[1m42s\u001b[0m 69ms/step - accuracy: 0.6679 - loss: 0.5713 - val_accuracy: 0.7969 - val_loss: 0.4410\n",
      "Epoch 2/40\n",
      "\u001b[1m593/593\u001b[0m \u001b[32m━━━━━━━━━━━━━━━━━━━━\u001b[0m\u001b[37m\u001b[0m \u001b[1m34s\u001b[0m 57ms/step - accuracy: 0.8394 - loss: 0.3590 - val_accuracy: 0.8108 - val_loss: 0.4067\n",
      "Epoch 3/40\n",
      "\u001b[1m593/593\u001b[0m \u001b[32m━━━━━━━━━━━━━━━━━━━━\u001b[0m\u001b[37m\u001b[0m \u001b[1m34s\u001b[0m 58ms/step - accuracy: 0.8628 - loss: 0.3082 - val_accuracy: 0.8172 - val_loss: 0.4270\n",
      "Epoch 4/40\n",
      "\u001b[1m593/593\u001b[0m \u001b[32m━━━━━━━━━━━━━━━━━━━━\u001b[0m\u001b[37m\u001b[0m \u001b[1m34s\u001b[0m 57ms/step - accuracy: 0.8759 - loss: 0.2879 - val_accuracy: 0.8153 - val_loss: 0.4077\n",
      "Epoch 5/40\n",
      "\u001b[1m593/593\u001b[0m \u001b[32m━━━━━━━━━━━━━━━━━━━━\u001b[0m\u001b[37m\u001b[0m \u001b[1m34s\u001b[0m 57ms/step - accuracy: 0.8730 - loss: 0.2878 - val_accuracy: 0.8313 - val_loss: 0.4382\n",
      "Epoch 6/40\n",
      "\u001b[1m593/593\u001b[0m \u001b[32m━━━━━━━━━━━━━━━━━━━━\u001b[0m\u001b[37m\u001b[0m \u001b[1m34s\u001b[0m 57ms/step - accuracy: 0.8867 - loss: 0.2679 - val_accuracy: 0.8218 - val_loss: 0.3983\n",
      "Epoch 7/40\n",
      "\u001b[1m593/593\u001b[0m \u001b[32m━━━━━━━━━━━━━━━━━━━━\u001b[0m\u001b[37m\u001b[0m \u001b[1m34s\u001b[0m 57ms/step - accuracy: 0.8898 - loss: 0.2580 - val_accuracy: 0.8290 - val_loss: 0.4691\n",
      "Epoch 8/40\n",
      "\u001b[1m593/593\u001b[0m \u001b[32m━━━━━━━━━━━━━━━━━━━━\u001b[0m\u001b[37m\u001b[0m \u001b[1m34s\u001b[0m 57ms/step - accuracy: 0.8909 - loss: 0.2494 - val_accuracy: 0.8267 - val_loss: 0.3866\n",
      "Epoch 9/40\n",
      "\u001b[1m593/593\u001b[0m \u001b[32m━━━━━━━━━━━━━━━━━━━━\u001b[0m\u001b[37m\u001b[0m \u001b[1m33s\u001b[0m 56ms/step - accuracy: 0.8966 - loss: 0.2423 - val_accuracy: 0.8361 - val_loss: 0.3690\n",
      "Epoch 10/40\n",
      "\u001b[1m593/593\u001b[0m \u001b[32m━━━━━━━━━━━━━━━━━━━━\u001b[0m\u001b[37m\u001b[0m \u001b[1m34s\u001b[0m 57ms/step - accuracy: 0.8897 - loss: 0.2481 - val_accuracy: 0.8340 - val_loss: 0.3775\n",
      "Epoch 11/40\n",
      "\u001b[1m593/593\u001b[0m \u001b[32m━━━━━━━━━━━━━━━━━━━━\u001b[0m\u001b[37m\u001b[0m \u001b[1m34s\u001b[0m 56ms/step - accuracy: 0.8963 - loss: 0.2369 - val_accuracy: 0.8302 - val_loss: 0.3727\n",
      "Epoch 12/40\n",
      "\u001b[1m593/593\u001b[0m \u001b[32m━━━━━━━━━━━━━━━━━━━━\u001b[0m\u001b[37m\u001b[0m \u001b[1m34s\u001b[0m 57ms/step - accuracy: 0.8996 - loss: 0.2312 - val_accuracy: 0.8482 - val_loss: 0.3572\n",
      "Epoch 13/40\n",
      "\u001b[1m593/593\u001b[0m \u001b[32m━━━━━━━━━━━━━━━━━━━━\u001b[0m\u001b[37m\u001b[0m \u001b[1m34s\u001b[0m 57ms/step - accuracy: 0.8994 - loss: 0.2444 - val_accuracy: 0.8402 - val_loss: 0.3556\n",
      "Epoch 14/40\n",
      "\u001b[1m593/593\u001b[0m \u001b[32m━━━━━━━━━━━━━━━━━━━━\u001b[0m\u001b[37m\u001b[0m \u001b[1m34s\u001b[0m 57ms/step - accuracy: 0.9021 - loss: 0.2317 - val_accuracy: 0.8469 - val_loss: 0.3643\n",
      "Epoch 15/40\n",
      "\u001b[1m593/593\u001b[0m \u001b[32m━━━━━━━━━━━━━━━━━━━━\u001b[0m\u001b[37m\u001b[0m \u001b[1m34s\u001b[0m 57ms/step - accuracy: 0.9001 - loss: 0.2306 - val_accuracy: 0.8391 - val_loss: 0.3547\n",
      "Epoch 16/40\n",
      "\u001b[1m593/593\u001b[0m \u001b[32m━━━━━━━━━━━━━━━━━━━━\u001b[0m\u001b[37m\u001b[0m \u001b[1m34s\u001b[0m 57ms/step - accuracy: 0.9048 - loss: 0.2259 - val_accuracy: 0.8385 - val_loss: 0.4112\n",
      "Epoch 17/40\n",
      "\u001b[1m593/593\u001b[0m \u001b[32m━━━━━━━━━━━━━━━━━━━━\u001b[0m\u001b[37m\u001b[0m \u001b[1m34s\u001b[0m 58ms/step - accuracy: 0.9070 - loss: 0.2174 - val_accuracy: 0.8402 - val_loss: 0.3610\n",
      "Epoch 18/40\n",
      "\u001b[1m593/593\u001b[0m \u001b[32m━━━━━━━━━━━━━━━━━━━━\u001b[0m\u001b[37m\u001b[0m \u001b[1m34s\u001b[0m 58ms/step - accuracy: 0.9014 - loss: 0.2291 - val_accuracy: 0.8484 - val_loss: 0.3988\n",
      "Epoch 19/40\n",
      "\u001b[1m593/593\u001b[0m \u001b[32m━━━━━━━━━━━━━━━━━━━━\u001b[0m\u001b[37m\u001b[0m \u001b[1m34s\u001b[0m 57ms/step - accuracy: 0.9105 - loss: 0.2164 - val_accuracy: 0.8397 - val_loss: 0.3702\n",
      "Epoch 20/40\n",
      "\u001b[1m593/593\u001b[0m \u001b[32m━━━━━━━━━━━━━━━━━━━━\u001b[0m\u001b[37m\u001b[0m \u001b[1m34s\u001b[0m 57ms/step - accuracy: 0.9088 - loss: 0.2172 - val_accuracy: 0.8484 - val_loss: 0.3876\n",
      "Epoch 21/40\n",
      "\u001b[1m593/593\u001b[0m \u001b[32m━━━━━━━━━━━━━━━━━━━━\u001b[0m\u001b[37m\u001b[0m \u001b[1m34s\u001b[0m 57ms/step - accuracy: 0.9123 - loss: 0.2055 - val_accuracy: 0.8351 - val_loss: 0.3632\n",
      "Epoch 22/40\n",
      "\u001b[1m593/593\u001b[0m \u001b[32m━━━━━━━━━━━━━━━━━━━━\u001b[0m\u001b[37m\u001b[0m \u001b[1m35s\u001b[0m 58ms/step - accuracy: 0.9111 - loss: 0.2145 - val_accuracy: 0.8524 - val_loss: 0.3660\n",
      "Epoch 23/40\n",
      "\u001b[1m593/593\u001b[0m \u001b[32m━━━━━━━━━━━━━━━━━━━━\u001b[0m\u001b[37m\u001b[0m \u001b[1m34s\u001b[0m 57ms/step - accuracy: 0.9127 - loss: 0.2114 - val_accuracy: 0.8511 - val_loss: 0.3465\n",
      "Epoch 24/40\n",
      "\u001b[1m593/593\u001b[0m \u001b[32m━━━━━━━━━━━━━━━━━━━━\u001b[0m\u001b[37m\u001b[0m \u001b[1m34s\u001b[0m 57ms/step - accuracy: 0.9197 - loss: 0.2004 - val_accuracy: 0.8448 - val_loss: 0.3618\n",
      "Epoch 25/40\n",
      "\u001b[1m593/593\u001b[0m \u001b[32m━━━━━━━━━━━━━━━━━━━━\u001b[0m\u001b[37m\u001b[0m \u001b[1m34s\u001b[0m 57ms/step - accuracy: 0.9170 - loss: 0.1981 - val_accuracy: 0.8448 - val_loss: 0.4406\n",
      "Epoch 26/40\n",
      "\u001b[1m593/593\u001b[0m \u001b[32m━━━━━━━━━━━━━━━━━━━━\u001b[0m\u001b[37m\u001b[0m \u001b[1m34s\u001b[0m 57ms/step - accuracy: 0.9118 - loss: 0.2020 - val_accuracy: 0.8570 - val_loss: 0.3621\n",
      "Epoch 27/40\n",
      "\u001b[1m593/593\u001b[0m \u001b[32m━━━━━━━━━━━━━━━━━━━━\u001b[0m\u001b[37m\u001b[0m \u001b[1m34s\u001b[0m 57ms/step - accuracy: 0.9133 - loss: 0.1994 - val_accuracy: 0.8486 - val_loss: 0.3632\n",
      "Epoch 28/40\n",
      "\u001b[1m593/593\u001b[0m \u001b[32m━━━━━━━━━━━━━━━━━━━━\u001b[0m\u001b[37m\u001b[0m \u001b[1m34s\u001b[0m 57ms/step - accuracy: 0.9131 - loss: 0.2066 - val_accuracy: 0.8484 - val_loss: 0.3678\n",
      "Epoch 29/40\n",
      "\u001b[1m593/593\u001b[0m \u001b[32m━━━━━━━━━━━━━━━━━━━━\u001b[0m\u001b[37m\u001b[0m \u001b[1m34s\u001b[0m 57ms/step - accuracy: 0.9184 - loss: 0.1977 - val_accuracy: 0.8608 - val_loss: 0.3616\n",
      "Epoch 30/40\n",
      "\u001b[1m593/593\u001b[0m \u001b[32m━━━━━━━━━━━━━━━━━━━━\u001b[0m\u001b[37m\u001b[0m \u001b[1m34s\u001b[0m 58ms/step - accuracy: 0.9156 - loss: 0.1985 - val_accuracy: 0.8456 - val_loss: 0.4035\n",
      "Epoch 31/40\n",
      "\u001b[1m593/593\u001b[0m \u001b[32m━━━━━━━━━━━━━━━━━━━━\u001b[0m\u001b[37m\u001b[0m \u001b[1m34s\u001b[0m 58ms/step - accuracy: 0.9241 - loss: 0.1807 - val_accuracy: 0.8499 - val_loss: 0.3544\n",
      "Epoch 32/40\n",
      "\u001b[1m593/593\u001b[0m \u001b[32m━━━━━━━━━━━━━━━━━━━━\u001b[0m\u001b[37m\u001b[0m \u001b[1m34s\u001b[0m 57ms/step - accuracy: 0.9170 - loss: 0.1904 - val_accuracy: 0.8543 - val_loss: 0.3731\n",
      "Epoch 33/40\n",
      "\u001b[1m593/593\u001b[0m \u001b[32m━━━━━━━━━━━━━━━━━━━━\u001b[0m\u001b[37m\u001b[0m \u001b[1m34s\u001b[0m 57ms/step - accuracy: 0.9203 - loss: 0.1891 - val_accuracy: 0.8482 - val_loss: 0.3475\n",
      "Epoch 34/40\n",
      "\u001b[1m593/593\u001b[0m \u001b[32m━━━━━━━━━━━━━━━━━━━━\u001b[0m\u001b[37m\u001b[0m \u001b[1m34s\u001b[0m 57ms/step - accuracy: 0.9225 - loss: 0.1892 - val_accuracy: 0.8492 - val_loss: 0.3705\n",
      "Epoch 35/40\n",
      "\u001b[1m593/593\u001b[0m \u001b[32m━━━━━━━━━━━━━━━━━━━━\u001b[0m\u001b[37m\u001b[0m \u001b[1m34s\u001b[0m 57ms/step - accuracy: 0.9226 - loss: 0.1891 - val_accuracy: 0.8564 - val_loss: 0.3583\n",
      "Epoch 36/40\n",
      "\u001b[1m593/593\u001b[0m \u001b[32m━━━━━━━━━━━━━━━━━━━━\u001b[0m\u001b[37m\u001b[0m \u001b[1m35s\u001b[0m 58ms/step - accuracy: 0.9242 - loss: 0.1792 - val_accuracy: 0.8545 - val_loss: 0.3451\n",
      "Epoch 37/40\n",
      "\u001b[1m593/593\u001b[0m \u001b[32m━━━━━━━━━━━━━━━━━━━━\u001b[0m\u001b[37m\u001b[0m \u001b[1m34s\u001b[0m 57ms/step - accuracy: 0.9233 - loss: 0.1860 - val_accuracy: 0.8549 - val_loss: 0.3410\n",
      "Epoch 38/40\n",
      "\u001b[1m593/593\u001b[0m \u001b[32m━━━━━━━━━━━━━━━━━━━━\u001b[0m\u001b[37m\u001b[0m \u001b[1m34s\u001b[0m 57ms/step - accuracy: 0.9242 - loss: 0.1801 - val_accuracy: 0.8522 - val_loss: 0.3741\n",
      "Epoch 39/40\n",
      "\u001b[1m593/593\u001b[0m \u001b[32m━━━━━━━━━━━━━━━━━━━━\u001b[0m\u001b[37m\u001b[0m \u001b[1m34s\u001b[0m 57ms/step - accuracy: 0.9218 - loss: 0.1818 - val_accuracy: 0.8488 - val_loss: 0.3727\n",
      "Epoch 40/40\n",
      "\u001b[1m593/593\u001b[0m \u001b[32m━━━━━━━━━━━━━━━━━━━━\u001b[0m\u001b[37m\u001b[0m \u001b[1m35s\u001b[0m 60ms/step - accuracy: 0.9274 - loss: 0.1768 - val_accuracy: 0.8568 - val_loss: 0.3616\n"
     ]
    },
    {
     "data": {
      "text/plain": [
       "<keras.src.callbacks.history.History at 0x72bdd7917920>"
      ]
     },
     "execution_count": 12,
     "metadata": {},
     "output_type": "execute_result"
    }
   ],
   "source": [
    "cnn.compile(optimizer = 'adam', loss = 'binary_crossentropy',\n",
    "            metrics = ['accuracy'])\n",
    "cnn.fit(x = training_set, validation_data = test_set, batch_size = 32,\n",
    "        epochs = 40)"
   ]
  },
  {
   "cell_type": "markdown",
   "metadata": {},
   "source": [
    "### Making single prediction"
   ]
  },
  {
   "cell_type": "code",
   "execution_count": 31,
   "metadata": {},
   "outputs": [
    {
     "name": "stdout",
     "output_type": "stream",
     "text": [
      "\u001b[1m1/1\u001b[0m \u001b[32m━━━━━━━━━━━━━━━━━━━━\u001b[0m\u001b[37m\u001b[0m \u001b[1m0s\u001b[0m 13ms/step\n",
      "Male\n"
     ]
    }
   ],
   "source": [
    "from tensorflow.keras.preprocessing.image import load_img, img_to_array\n",
    "test_img = load_img('male.jpg', target_size = (64, 64))\n",
    "test_img = img_to_array(test_img)\n",
    "test_img = np.expand_dims(test_img, axis = 0)\n",
    "result = cnn.predict(test_img)\n",
    "if result[0][0] == 1:\n",
    "    print('Male')\n",
    "else:\n",
    "    print('Female')"
   ]
  },
  {
   "cell_type": "code",
   "execution_count": null,
   "metadata": {},
   "outputs": [],
   "source": [
    "from tensorflow.keras.preprocessing.image import load_img, img_to_array\n",
    "test_img = load_img('female.jpg', target_size = (64, 64))\n",
    "test_img = img_to_array(test_img)\n",
    "test_img = np.expand_dims(test_img, axis = 0)\n",
    "result = cnn.predict(test_img)\n",
    "if result[0][0] == 1:\n",
    "    print('Male')\n",
    "else:\n",
    "    print('Female')"
   ]
  },
  {
   "cell_type": "markdown",
   "metadata": {},
   "source": [
    "### Saving the Model in a .h5 format to use it later for Computer Vision (CV)"
   ]
  },
  {
   "cell_type": "code",
   "execution_count": null,
   "metadata": {},
   "outputs": [],
   "source": [
    "cnn.save('gender_classification.h5')"
   ]
  }
 ],
 "metadata": {
  "kernelspec": {
   "display_name": "machine_learning",
   "language": "python",
   "name": "python3"
  },
  "language_info": {
   "codemirror_mode": {
    "name": "ipython",
    "version": 3
   },
   "file_extension": ".py",
   "mimetype": "text/x-python",
   "name": "python",
   "nbconvert_exporter": "python",
   "pygments_lexer": "ipython3",
   "version": "3.12.4"
  }
 },
 "nbformat": 4,
 "nbformat_minor": 2
}
